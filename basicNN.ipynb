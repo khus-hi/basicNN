{
  "nbformat": 4,
  "nbformat_minor": 0,
  "metadata": {
    "colab": {
      "provenance": [],
      "authorship_tag": "ABX9TyPCSPsOaPZVWuDxaq/GYDze",
      "include_colab_link": true
    },
    "kernelspec": {
      "name": "python3",
      "display_name": "Python 3"
    },
    "language_info": {
      "name": "python"
    }
  },
  "cells": [
    {
      "cell_type": "markdown",
      "metadata": {
        "id": "view-in-github",
        "colab_type": "text"
      },
      "source": [
        "<a href=\"https://colab.research.google.com/github/khus-hi/basicNN/blob/main/basicNN.ipynb\" target=\"_parent\"><img src=\"https://colab.research.google.com/assets/colab-badge.svg\" alt=\"Open In Colab\"/></a>"
      ]
    },
    {
      "cell_type": "code",
      "execution_count": 1,
      "metadata": {
        "id": "elrFTFwpI6pW"
      },
      "outputs": [],
      "source": [
        "import numpy as np\n",
        "import matplotlib.pyplot as plt\n",
        "from mpl_toolkits.mplot3d import Axes3D"
      ]
    },
    {
      "cell_type": "code",
      "source": [
        "observations=1000\n",
        "xs=np.random.uniform(low=-10,high=10,size=(observations,1))\n",
        "zs=np.random.uniform(low=-10,high=10,size=(observations,1))\n",
        "\n",
        "input=np.column_stack((xs,zs))\n",
        "print(input.shape)"
      ],
      "metadata": {
        "colab": {
          "base_uri": "https://localhost:8080/"
        },
        "id": "iWIYhmiyJCn8",
        "outputId": "89460a13-fba3-485e-ea24-46d16b43de17"
      },
      "execution_count": 5,
      "outputs": [
        {
          "output_type": "stream",
          "name": "stdout",
          "text": [
            "(1000, 2)\n"
          ]
        }
      ]
    },
    {
      "cell_type": "code",
      "source": [
        "noise=np.random.uniform(low=-10,high=10,size=(observations,1))\n",
        "targets=2*xs - 3*zs + 5 + noise\n",
        "print(targets.shape)"
      ],
      "metadata": {
        "colab": {
          "base_uri": "https://localhost:8080/"
        },
        "id": "BF848HmXJokJ",
        "outputId": "f5142970-28e1-4d17-e35f-5c0d2a148dff"
      },
      "execution_count": 7,
      "outputs": [
        {
          "output_type": "stream",
          "name": "stdout",
          "text": [
            "(1000, 1)\n"
          ]
        }
      ]
    },
    {
      "cell_type": "code",
      "source": [
        "init_range=0.1\n",
        "weights=np.random.uniform(-init_range,init_range,size=(2,1))\n",
        "biases=np.random.uniform(-init_range,init_range,size=1)\n",
        "print(weights)\n",
        "print(biases)"
      ],
      "metadata": {
        "colab": {
          "base_uri": "https://localhost:8080/"
        },
        "id": "AEGAMnD3KN5-",
        "outputId": "2255484c-bf96-4e6b-eb47-b1bd888f7e34"
      },
      "execution_count": 8,
      "outputs": [
        {
          "output_type": "stream",
          "name": "stdout",
          "text": [
            "[[ 0.06059218]\n",
            " [-0.06744297]]\n",
            "[0.01565463]\n"
          ]
        }
      ]
    },
    {
      "cell_type": "markdown",
      "source": [
        "set learning rate"
      ],
      "metadata": {
        "id": "iHDrV1EpLVUG"
      }
    },
    {
      "cell_type": "code",
      "source": [
        "learning_rate=0.02"
      ],
      "metadata": {
        "id": "BjFdkEfzLGbT"
      },
      "execution_count": 9,
      "outputs": []
    },
    {
      "cell_type": "markdown",
      "source": [
        "Train the model"
      ],
      "metadata": {
        "id": "JzCwmy_7LSOm"
      }
    },
    {
      "cell_type": "code",
      "source": [
        "for i in range (100):\n",
        "  outputs=np.dot(input,weights)+biases\n",
        "  delta=outputs-targets\n",
        "  loss=np.sum(delta**2)/2/observations\n",
        "  print(loss)\n",
        "\n",
        "  delta_scaled=delta/observations\n",
        "  weights=weights-learning_rate*np.dot(input.T,delta_scaled)\n",
        "  biases=biases-learning_rate*np.sum(delta_scaled)\n"
      ],
      "metadata": {
        "colab": {
          "base_uri": "https://localhost:8080/"
        },
        "id": "fMc65iE6LNXw",
        "outputId": "e1909eee-f1e9-4aea-f318-45c7891b8a16"
      },
      "execution_count": 10,
      "outputs": [
        {
          "output_type": "stream",
          "name": "stdout",
          "text": [
            "224.87619177093993\n",
            "55.798712068986966\n",
            "31.65882217639372\n",
            "27.852266868988828\n",
            "26.953464874555518\n",
            "26.486849425442678\n",
            "26.096210107098496\n",
            "25.72941970733511\n",
            "25.378377241290465\n",
            "25.04141221452022\n",
            "24.717813697329476\n",
            "24.407029942942923\n",
            "24.10855030644881\n",
            "23.82188719327082\n",
            "23.546572729692606\n",
            "23.282157626100794\n",
            "23.02821038878039\n",
            "22.78431660765702\n",
            "22.550078278834828\n",
            "22.32511315492774\n",
            "22.109054121253898\n",
            "21.901548596747016\n",
            "21.702257958587982\n",
            "21.510856989615153\n",
            "21.32703334761094\n",
            "21.15048705559874\n",
            "20.980930012318414\n",
            "20.818085522081375\n",
            "20.66168784323815\n",
            "20.5114817545216\n",
            "20.367222138557977\n",
            "20.228673581866357\n",
            "20.095609990693546\n",
            "19.9678142220576\n",
            "19.845077729397925\n",
            "19.727200222253604\n",
            "19.613989339414633\n",
            "19.50526033501275\n",
            "19.40083577703946\n",
            "19.30054525779942\n",
            "19.204225115826606\n",
            "19.11171816880943\n",
            "19.022873457089066\n",
            "18.937545997312355\n",
            "18.855596545837265\n",
            "18.776891371504863\n",
            "18.701302037406904\n",
            "18.62870519129307\n",
            "18.558982364275614\n",
            "18.492019777503142\n",
            "18.427708156487853\n",
            "18.36594255278339\n",
            "18.30662217272223\n",
            "18.24965021293312\n",
            "18.19493370237021\n",
            "18.142383350596052\n",
            "18.091913402070876\n",
            "18.043441496210356\n",
            "17.99688853298355\n",
            "17.952178543831643\n",
            "17.90923856769684\n",
            "17.867998531959113\n",
            "17.828391138086573\n",
            "17.790351751812725\n",
            "17.753818297661528\n",
            "17.718731157648037\n",
            "17.68503307398939\n",
            "17.652669055667346\n",
            "17.621586288689848\n",
            "17.591734049905284\n",
            "17.563063624228725\n",
            "17.53552822514501\n",
            "17.5090829183591\n",
            "17.48368454846894\n",
            "17.45929166854135\n",
            "17.435864472475814\n",
            "17.41336473004595\n",
            "17.391755724512645\n",
            "17.371002192706932\n",
            "17.351070267484975\n",
            "17.331927422461156\n",
            "17.313542418929114\n",
            "17.295885254884148\n",
            "17.278927116063684\n",
            "17.262640328926086\n",
            "17.2469983154909\n",
            "17.23197554996695\n",
            "17.217547517097486\n",
            "17.20369067215435\n",
            "17.190382402515993\n",
            "17.17760099076648\n",
            "17.165325579255448\n",
            "17.153536136061053\n",
            "17.142213422300365\n",
            "17.13133896073401\n",
            "17.120895005613555\n",
            "17.110864513722774\n",
            "17.101231116565206\n",
            "17.09197909365289\n",
            "17.08309334685246\n"
          ]
        }
      ]
    },
    {
      "cell_type": "code",
      "source": [
        "print(weights,biases)"
      ],
      "metadata": {
        "colab": {
          "base_uri": "https://localhost:8080/"
        },
        "id": "8fX_UzgLNTQd",
        "outputId": "c46760e8-d2b9-4758-8234-92d3375ef41d"
      },
      "execution_count": 11,
      "outputs": [
        {
          "output_type": "stream",
          "name": "stdout",
          "text": [
            "[[ 2.01191531]\n",
            " [-3.02951195]] [4.22032158]\n"
          ]
        }
      ]
    },
    {
      "cell_type": "code",
      "source": [
        "plt.plot(outputs,targets)\n",
        "plt.xlabel('outputs')\n",
        "plt.ylabel('targets')\n",
        "plt.show()"
      ],
      "metadata": {
        "colab": {
          "base_uri": "https://localhost:8080/",
          "height": 449
        },
        "id": "QBGgiwN5NgX-",
        "outputId": "c052233a-f3cc-49f1-b498-6b4535864c17"
      },
      "execution_count": 12,
      "outputs": [
        {
          "output_type": "display_data",
          "data": {
            "text/plain": [
              "<Figure size 640x480 with 1 Axes>"
            ],
            "image/png": "[encoded data removed]"
          },
          "metadata": {}
        }
      ]
    }
  ]
}